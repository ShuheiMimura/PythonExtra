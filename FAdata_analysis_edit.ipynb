{
 "cells": [
  {
   "cell_type": "markdown",
   "id": "623d6526",
   "metadata": {},
   "source": [
    "# Analyze the Feed axis data"
   ]
  },
  {
   "cell_type": "markdown",
   "id": "999fba2f",
   "metadata": {},
   "source": [
    "### Q1 a81nxはどんな機械か？調査せよ / What kind of machine is a81nx? Investigate.\n",
    "  - 立形 or 横形 ?　主軸の種類は？　大きさは？　など\n",
    "  - vertical or Horizontal? Variation of Spindle? What is size? etc."
   ]
  },
  {
   "cell_type": "markdown",
   "id": "ec577e76",
   "metadata": {},
   "source": [
    "### Q2 X軸、Y軸、Z軸往復動作それぞれトルク平均値について、ヒストグラムを作成せよ<br>\n",
    "Make a histogram for each of the X-axis, Y-axis, Z-axis. <br>\n",
    "データ…C95_a81nx_WDAx02_TCMDA.csv"
   ]
  },
  {
   "cell_type": "markdown",
   "id": "659b3e00",
   "metadata": {},
   "source": [
    "まずモジュールを読み込む"
   ]
  },
  {
   "cell_type": "code",
   "execution_count": 3,
   "id": "da8ea503",
   "metadata": {},
   "outputs": [],
   "source": [
    "%matplotlib inline\n",
    "import pandas as pd\n",
    "import matplotlib.pyplot as plt"
   ]
  },
  {
   "cell_type": "markdown",
   "id": "ad2fd89a",
   "metadata": {},
   "source": [
    "目的のCSVファイルをpandasのdataframe形式で読み込む"
   ]
  },
  {
   "cell_type": "code",
   "execution_count": 4,
   "id": "59bf253c",
   "metadata": {},
   "outputs": [],
   "source": [
    "df_csv = pd.read_csv('C95_a81nx_WDAx02_TCMDA.csv', index_col=0)"
   ]
  },
  {
   "cell_type": "markdown",
   "id": "f5307087",
   "metadata": {},
   "source": [
    "pandasのdataframeの先頭5行を出力する"
   ]
  },
  {
   "cell_type": "code",
   "execution_count": 6,
   "id": "5f10b7c3",
   "metadata": {},
   "outputs": [
    {
     "data": {
      "text/html": [
       "<div>\n",
       "<style scoped>\n",
       "    .dataframe tbody tr th:only-of-type {\n",
       "        vertical-align: middle;\n",
       "    }\n",
       "\n",
       "    .dataframe tbody tr th {\n",
       "        vertical-align: top;\n",
       "    }\n",
       "\n",
       "    .dataframe thead th {\n",
       "        text-align: right;\n",
       "    }\n",
       "</style>\n",
       "<table border=\"1\" class=\"dataframe\">\n",
       "  <thead>\n",
       "    <tr style=\"text-align: right;\">\n",
       "      <th></th>\n",
       "      <th>SN</th>\n",
       "      <th>date</th>\n",
       "      <th>axis</th>\n",
       "      <th>scale</th>\n",
       "      <th>section</th>\n",
       "      <th>TCMD-A-1</th>\n",
       "      <th>TCMD-A-2</th>\n",
       "    </tr>\n",
       "  </thead>\n",
       "  <tbody>\n",
       "    <tr>\n",
       "      <th>0</th>\n",
       "      <td>465</td>\n",
       "      <td>2017/11/25</td>\n",
       "      <td>X</td>\n",
       "      <td>1</td>\n",
       "      <td>2</td>\n",
       "      <td>5.401357</td>\n",
       "      <td>-5.077860</td>\n",
       "    </tr>\n",
       "    <tr>\n",
       "      <th>1</th>\n",
       "      <td>465</td>\n",
       "      <td>2017/11/25</td>\n",
       "      <td>Y</td>\n",
       "      <td>1</td>\n",
       "      <td>2</td>\n",
       "      <td>20.205510</td>\n",
       "      <td>13.520459</td>\n",
       "    </tr>\n",
       "    <tr>\n",
       "      <th>2</th>\n",
       "      <td>465</td>\n",
       "      <td>2017/11/25</td>\n",
       "      <td>Z</td>\n",
       "      <td>1</td>\n",
       "      <td>2</td>\n",
       "      <td>3.759887</td>\n",
       "      <td>-3.502716</td>\n",
       "    </tr>\n",
       "    <tr>\n",
       "      <th>3</th>\n",
       "      <td>475</td>\n",
       "      <td>2017/12/5</td>\n",
       "      <td>X</td>\n",
       "      <td>1</td>\n",
       "      <td>2</td>\n",
       "      <td>5.031119</td>\n",
       "      <td>-4.736860</td>\n",
       "    </tr>\n",
       "    <tr>\n",
       "      <th>4</th>\n",
       "      <td>475</td>\n",
       "      <td>2017/12/5</td>\n",
       "      <td>Y</td>\n",
       "      <td>1</td>\n",
       "      <td>2</td>\n",
       "      <td>15.270975</td>\n",
       "      <td>8.562764</td>\n",
       "    </tr>\n",
       "  </tbody>\n",
       "</table>\n",
       "</div>"
      ],
      "text/plain": [
       "    SN        date axis  scale  section   TCMD-A-1   TCMD-A-2\n",
       "0  465  2017/11/25    X      1        2   5.401357  -5.077860\n",
       "1  465  2017/11/25    Y      1        2  20.205510  13.520459\n",
       "2  465  2017/11/25    Z      1        2   3.759887  -3.502716\n",
       "3  475   2017/12/5    X      1        2   5.031119  -4.736860\n",
       "4  475   2017/12/5    Y      1        2  15.270975   8.562764"
      ]
     },
     "execution_count": 6,
     "metadata": {},
     "output_type": "execute_result"
    }
   ],
   "source": [
    "# enter your code"
   ]
  },
  {
   "cell_type": "markdown",
   "id": "51c12844",
   "metadata": {},
   "source": [
    "ヒストグラムを作成する"
   ]
  },
  {
   "cell_type": "code",
   "execution_count": 7,
   "id": "7a6a8bc1",
   "metadata": {},
   "outputs": [],
   "source": [
    "# enter your code"
   ]
  },
  {
   "cell_type": "markdown",
   "id": "889113f2",
   "metadata": {},
   "source": [
    "### Q3　トルク平均値データについて分析せよ / Analyze the data of average value of the torque."
   ]
  }
 ],
 "metadata": {
  "kernelspec": {
   "display_name": "Python 3",
   "language": "python",
   "name": "python3"
  },
  "language_info": {
   "codemirror_mode": {
    "name": "ipython",
    "version": 3
   },
   "file_extension": ".py",
   "mimetype": "text/x-python",
   "name": "python",
   "nbconvert_exporter": "python",
   "pygments_lexer": "ipython3",
   "version": "3.7.9"
  }
 },
 "nbformat": 4,
 "nbformat_minor": 5
}

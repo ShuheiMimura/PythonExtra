{
  "nbformat": 4,
  "nbformat_minor": 5,
  "metadata": {
    "kernelspec": {
      "display_name": "Python 3",
      "language": "python",
      "name": "python3"
    },
    "language_info": {
      "codemirror_mode": {
        "name": "ipython",
        "version": 3
      },
      "file_extension": ".py",
      "mimetype": "text/x-python",
      "name": "python",
      "nbconvert_exporter": "python",
      "pygments_lexer": "ipython3",
      "version": "3.7.9"
    },
    "colab": {
      "name": "FAdata_analysis_edit.ipynb",
      "provenance": []
    }
  },
  "cells": [
    {
      "cell_type": "markdown",
      "metadata": {
        "id": "623d6526"
      },
      "source": [
        "# Analyze the Feed axis data"
      ],
      "id": "623d6526"
    },
    {
      "cell_type": "markdown",
      "metadata": {
        "id": "999fba2f"
      },
      "source": [
        "### Q1 a81nxはどんな機械か？調査せよ / What kind of machine is a81nx? Investigate.\n",
        "  - 横形マシニングセンタ\n",
        "  - BT50主軸（特別仕様：HSK- A100）\n",
        "  - 機体寸法：3710mm × 5605mm\n",
        "  - パレット寸法：□630mm\n",
        "  - 各軸最大移動量：(X, Y, Z) = (900, 900, 1020) mm\n",
        "  - 主軸回転速度：20 ～ 10000 min<sup>-1</sup>\n",
        "  - 早送り速度：50000 mm/min"
      ],
      "id": "999fba2f"
    },
    {
      "cell_type": "markdown",
      "metadata": {
        "id": "ec577e76"
      },
      "source": [
        "### Q2 X軸、Y軸、Z軸往復動作それぞれトルク平均値について、ヒストグラムを作成せよ<br>\n",
        "Make a histogram for each of the X-axis, Y-axis, Z-axis. <br>\n",
        "データ…C95_a81nx_WDAx02_TCMDA.csv"
      ],
      "id": "ec577e76"
    },
    {
      "cell_type": "markdown",
      "metadata": {
        "id": "659b3e00"
      },
      "source": [
        "まずモジュールを読み込む"
      ],
      "id": "659b3e00"
    },
    {
      "cell_type": "code",
      "metadata": {
        "id": "da8ea503"
      },
      "source": [
        "%matplotlib inline\n",
        "import pandas as pd\n",
        "import matplotlib.pyplot as plt"
      ],
      "id": "da8ea503",
      "execution_count": 135,
      "outputs": []
    },
    {
      "cell_type": "markdown",
      "metadata": {
        "id": "ad2fd89a"
      },
      "source": [
        "目的のCSVファイルをpandasのdataframe形式で読み込む"
      ],
      "id": "ad2fd89a"
    },
    {
      "cell_type": "code",
      "metadata": {
        "id": "59bf253c"
      },
      "source": [
        "df_csv = pd.read_csv('C95_a81nx_WDAx02_TCMDA.csv', index_col=0)"
      ],
      "id": "59bf253c",
      "execution_count": 136,
      "outputs": []
    },
    {
      "cell_type": "markdown",
      "metadata": {
        "id": "f5307087"
      },
      "source": [
        "pandasのdataframeの先頭5行を出力する"
      ],
      "id": "f5307087"
    },
    {
      "cell_type": "code",
      "metadata": {
        "colab": {
          "base_uri": "https://localhost:8080/",
          "height": 206
        },
        "id": "5f10b7c3",
        "outputId": "6db397c4-bbbd-42b8-a2d9-b84a95d323aa"
      },
      "source": [
        "df_csv.head()"
      ],
      "id": "5f10b7c3",
      "execution_count": 137,
      "outputs": [
        {
          "output_type": "execute_result",
          "data": {
            "text/html": [
              "<div>\n",
              "<style scoped>\n",
              "    .dataframe tbody tr th:only-of-type {\n",
              "        vertical-align: middle;\n",
              "    }\n",
              "\n",
              "    .dataframe tbody tr th {\n",
              "        vertical-align: top;\n",
              "    }\n",
              "\n",
              "    .dataframe thead th {\n",
              "        text-align: right;\n",
              "    }\n",
              "</style>\n",
              "<table border=\"1\" class=\"dataframe\">\n",
              "  <thead>\n",
              "    <tr style=\"text-align: right;\">\n",
              "      <th></th>\n",
              "      <th>SN</th>\n",
              "      <th>date</th>\n",
              "      <th>axis</th>\n",
              "      <th>scale</th>\n",
              "      <th>section</th>\n",
              "      <th>TCMD-A-1</th>\n",
              "      <th>TCMD-A-2</th>\n",
              "    </tr>\n",
              "  </thead>\n",
              "  <tbody>\n",
              "    <tr>\n",
              "      <th>0</th>\n",
              "      <td>465</td>\n",
              "      <td>2017/11/25</td>\n",
              "      <td>X</td>\n",
              "      <td>1</td>\n",
              "      <td>2</td>\n",
              "      <td>5.401357</td>\n",
              "      <td>-5.077860</td>\n",
              "    </tr>\n",
              "    <tr>\n",
              "      <th>1</th>\n",
              "      <td>465</td>\n",
              "      <td>2017/11/25</td>\n",
              "      <td>Y</td>\n",
              "      <td>1</td>\n",
              "      <td>2</td>\n",
              "      <td>20.205510</td>\n",
              "      <td>13.520459</td>\n",
              "    </tr>\n",
              "    <tr>\n",
              "      <th>2</th>\n",
              "      <td>465</td>\n",
              "      <td>2017/11/25</td>\n",
              "      <td>Z</td>\n",
              "      <td>1</td>\n",
              "      <td>2</td>\n",
              "      <td>3.759887</td>\n",
              "      <td>-3.502716</td>\n",
              "    </tr>\n",
              "    <tr>\n",
              "      <th>3</th>\n",
              "      <td>475</td>\n",
              "      <td>2017/12/5</td>\n",
              "      <td>X</td>\n",
              "      <td>1</td>\n",
              "      <td>2</td>\n",
              "      <td>5.031119</td>\n",
              "      <td>-4.736860</td>\n",
              "    </tr>\n",
              "    <tr>\n",
              "      <th>4</th>\n",
              "      <td>475</td>\n",
              "      <td>2017/12/5</td>\n",
              "      <td>Y</td>\n",
              "      <td>1</td>\n",
              "      <td>2</td>\n",
              "      <td>15.270975</td>\n",
              "      <td>8.562764</td>\n",
              "    </tr>\n",
              "  </tbody>\n",
              "</table>\n",
              "</div>"
            ],
            "text/plain": [
              "    SN        date axis  scale  section   TCMD-A-1   TCMD-A-2\n",
              "0  465  2017/11/25    X      1        2   5.401357  -5.077860\n",
              "1  465  2017/11/25    Y      1        2  20.205510  13.520459\n",
              "2  465  2017/11/25    Z      1        2   3.759887  -3.502716\n",
              "3  475   2017/12/5    X      1        2   5.031119  -4.736860\n",
              "4  475   2017/12/5    Y      1        2  15.270975   8.562764"
            ]
          },
          "metadata": {},
          "execution_count": 137
        }
      ]
    },
    {
      "cell_type": "markdown",
      "metadata": {
        "id": "51c12844"
      },
      "source": [
        "ヒストグラムを作成する"
      ],
      "id": "51c12844"
    },
    {
      "cell_type": "code",
      "metadata": {
        "colab": {
          "base_uri": "https://localhost:8080/",
          "height": 206
        },
        "id": "boEZ1aNOEOmq",
        "outputId": "26cef667-bae7-4b7a-8769-cf5d2e235fd3"
      },
      "source": [
        "df = pd.DataFrame({\"x1\": df_csv.iloc[0::3, -2],\n",
        "                   \"y1\": df_csv.iloc[1::3, -2],\n",
        "                   \"z1\": df_csv.iloc[2::3, -2],\n",
        "                   \"x2\": df_csv.iloc[0::3, -1],\n",
        "                   \"y2\": df_csv.iloc[1::3, -1],\n",
        "                   \"z2\": df_csv.iloc[2::3, -1]})\n",
        "df.head()"
      ],
      "id": "boEZ1aNOEOmq",
      "execution_count": 138,
      "outputs": [
        {
          "output_type": "execute_result",
          "data": {
            "text/html": [
              "<div>\n",
              "<style scoped>\n",
              "    .dataframe tbody tr th:only-of-type {\n",
              "        vertical-align: middle;\n",
              "    }\n",
              "\n",
              "    .dataframe tbody tr th {\n",
              "        vertical-align: top;\n",
              "    }\n",
              "\n",
              "    .dataframe thead th {\n",
              "        text-align: right;\n",
              "    }\n",
              "</style>\n",
              "<table border=\"1\" class=\"dataframe\">\n",
              "  <thead>\n",
              "    <tr style=\"text-align: right;\">\n",
              "      <th></th>\n",
              "      <th>x1</th>\n",
              "      <th>y1</th>\n",
              "      <th>z1</th>\n",
              "      <th>x2</th>\n",
              "      <th>y2</th>\n",
              "      <th>z2</th>\n",
              "    </tr>\n",
              "  </thead>\n",
              "  <tbody>\n",
              "    <tr>\n",
              "      <th>0</th>\n",
              "      <td>5.401357</td>\n",
              "      <td>NaN</td>\n",
              "      <td>NaN</td>\n",
              "      <td>-5.07786</td>\n",
              "      <td>NaN</td>\n",
              "      <td>NaN</td>\n",
              "    </tr>\n",
              "    <tr>\n",
              "      <th>1</th>\n",
              "      <td>NaN</td>\n",
              "      <td>20.205510</td>\n",
              "      <td>NaN</td>\n",
              "      <td>NaN</td>\n",
              "      <td>13.520459</td>\n",
              "      <td>NaN</td>\n",
              "    </tr>\n",
              "    <tr>\n",
              "      <th>2</th>\n",
              "      <td>NaN</td>\n",
              "      <td>NaN</td>\n",
              "      <td>3.759887</td>\n",
              "      <td>NaN</td>\n",
              "      <td>NaN</td>\n",
              "      <td>-3.502716</td>\n",
              "    </tr>\n",
              "    <tr>\n",
              "      <th>3</th>\n",
              "      <td>5.031119</td>\n",
              "      <td>NaN</td>\n",
              "      <td>NaN</td>\n",
              "      <td>-4.73686</td>\n",
              "      <td>NaN</td>\n",
              "      <td>NaN</td>\n",
              "    </tr>\n",
              "    <tr>\n",
              "      <th>4</th>\n",
              "      <td>NaN</td>\n",
              "      <td>15.270975</td>\n",
              "      <td>NaN</td>\n",
              "      <td>NaN</td>\n",
              "      <td>8.562764</td>\n",
              "      <td>NaN</td>\n",
              "    </tr>\n",
              "  </tbody>\n",
              "</table>\n",
              "</div>"
            ],
            "text/plain": [
              "         x1         y1        z1       x2         y2        z2\n",
              "0  5.401357        NaN       NaN -5.07786        NaN       NaN\n",
              "1       NaN  20.205510       NaN      NaN  13.520459       NaN\n",
              "2       NaN        NaN  3.759887      NaN        NaN -3.502716\n",
              "3  5.031119        NaN       NaN -4.73686        NaN       NaN\n",
              "4       NaN  15.270975       NaN      NaN   8.562764       NaN"
            ]
          },
          "metadata": {},
          "execution_count": 138
        }
      ]
    },
    {
      "cell_type": "code",
      "metadata": {
        "colab": {
          "base_uri": "https://localhost:8080/",
          "height": 297
        },
        "id": "FLP4OX1u95j6",
        "outputId": "b0337353-30a4-429c-b344-4b3a85c799f2"
      },
      "source": [
        "fig = plt.figure()\n",
        "\n",
        "for i in range(1,7):\n",
        "  fig.add_subplot(2, 3, i).hist(df.iloc[:,i-1])\n",
        "\n",
        "plt.tight_layout()\n",
        "plt.show()"
      ],
      "id": "FLP4OX1u95j6",
      "execution_count": 141,
      "outputs": [
        {
          "output_type": "display_data",
          "data": {
            "image/png": "[encoded data removed]",
            "text/plain": [
              "<Figure size 432x288 with 6 Axes>"
            ]
          },
          "metadata": {
            "needs_background": "light"
          }
        }
      ]
    },
    {
      "cell_type": "code",
      "metadata": {
        "id": "XpATiFde2zH2",
        "outputId": "d2a3af6f-433e-4d82-f77b-c2b0a5621299",
        "colab": {
          "base_uri": "https://localhost:8080/",
          "height": 299
        }
      },
      "source": [
        "fig = plt.figure()\n",
        "\n",
        "fig.add_subplot(2, 3, 1).hist(df.iloc[:,0], bins=50, range=[-6,6])\n",
        "fig.add_subplot(2, 3, 2).hist(df.iloc[:,1], bins=50, range=[8,22])\n",
        "fig.add_subplot(2, 3, 3).hist(df.iloc[:,2], bins=50, range=[-5,5])\n",
        "fig.add_subplot(2, 3, 4).hist(df.iloc[:,3], bins=50, range=[-6,6])\n",
        "fig.add_subplot(2, 3, 5).hist(df.iloc[:,4], bins=50, range=[8,22])\n",
        "fig.add_subplot(2, 3, 6).hist(df.iloc[:,5], bins=50, range=[-5,5])\n",
        "\n",
        "plt.tight_layout()\n",
        "plt.show()"
      ],
      "id": "XpATiFde2zH2",
      "execution_count": 147,
      "outputs": [
        {
          "output_type": "display_data",
          "data": {
            "image/png": "[encoded data removed]",
            "text/plain": [
              "<Figure size 432x288 with 6 Axes>"
            ]
          },
          "metadata": {
            "needs_background": "light"
          }
        }
      ]
    },
    {
      "cell_type": "markdown",
      "metadata": {
        "id": "889113f2"
      },
      "source": [
        "### Q3　トルク平均値データについて分析せよ / Analyze the data of average value of the torque.\n",
        "  - 上段は正転時のトルクであり、下段は逆転時のトルクである\n",
        "  - X軸（左列），Z軸（右列）は水平方向の駆動であるため、正転時と逆転時では大きさがほぼ同じで符号が逆のトルクとなっている\n",
        "  - Y軸（中列）は鉛直方向の駆動であるため、逆転時（下降時）でも重力に逆らう方向（正）のトルクを発生させていなければならず、正転時と逆転時で符号が逆になっていない\n",
        "  "
      ],
      "id": "889113f2"
    }
  ]
}
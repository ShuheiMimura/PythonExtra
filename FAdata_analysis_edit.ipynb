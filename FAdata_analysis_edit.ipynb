{
  "nbformat": 4,
  "nbformat_minor": 5,
  "metadata": {
    "kernelspec": {
      "display_name": "Python 3",
      "language": "python",
      "name": "python3"
    },
    "language_info": {
      "codemirror_mode": {
        "name": "ipython",
        "version": 3
      },
      "file_extension": ".py",
      "mimetype": "text/x-python",
      "name": "python",
      "nbconvert_exporter": "python",
      "pygments_lexer": "ipython3",
      "version": "3.7.9"
    },
    "colab": {
      "name": "FAdata_analysis_edit.ipynb",
      "provenance": []
    }
  },
  "cells": [
    {
      "cell_type": "markdown",
      "metadata": {
        "id": "623d6526"
      },
      "source": [
        "# Analyze the Feed axis data"
      ],
      "id": "623d6526"
    },
    {
      "cell_type": "markdown",
      "metadata": {
        "id": "999fba2f"
      },
      "source": [
        "### Q1 a81nxはどんな機械か？調査せよ / What kind of machine is a81nx? Investigate.\n",
        "  - 立形 or 横形 ?　主軸の種類は？　大きさは？　など\n",
        "  - vertical or Horizontal? Variation of Spindle? What is size? etc."
      ],
      "id": "999fba2f"
    },
    {
      "cell_type": "markdown",
      "metadata": {
        "id": "ec577e76"
      },
      "source": [
        "### Q2 X軸、Y軸、Z軸往復動作それぞれトルク平均値について、ヒストグラムを作成せよ<br>\n",
        "Make a histogram for each of the X-axis, Y-axis, Z-axis. <br>\n",
        "データ…C95_a81nx_WDAx02_TCMDA.csv"
      ],
      "id": "ec577e76"
    },
    {
      "cell_type": "markdown",
      "metadata": {
        "id": "659b3e00"
      },
      "source": [
        "まずモジュールを読み込む"
      ],
      "id": "659b3e00"
    },
    {
      "cell_type": "code",
      "metadata": {
        "id": "da8ea503"
      },
      "source": [
        "%matplotlib inline\n",
        "import pandas as pd\n",
        "import matplotlib.pyplot as plt"
      ],
      "id": "da8ea503",
      "execution_count": 92,
      "outputs": []
    },
    {
      "cell_type": "markdown",
      "metadata": {
        "id": "ad2fd89a"
      },
      "source": [
        "目的のCSVファイルをpandasのdataframe形式で読み込む"
      ],
      "id": "ad2fd89a"
    },
    {
      "cell_type": "code",
      "metadata": {
        "id": "59bf253c"
      },
      "source": [
        "df_csv = pd.read_csv('C95_a81nx_WDAx02_TCMDA.csv', index_col=0)"
      ],
      "id": "59bf253c",
      "execution_count": 93,
      "outputs": []
    },
    {
      "cell_type": "markdown",
      "metadata": {
        "id": "f5307087"
      },
      "source": [
        "pandasのdataframeの先頭5行を出力する"
      ],
      "id": "f5307087"
    },
    {
      "cell_type": "code",
      "metadata": {
        "colab": {
          "base_uri": "https://localhost:8080/",
          "height": 206
        },
        "id": "5f10b7c3",
        "outputId": "c1584db6-ed93-4de1-fbd7-3ae61f232b08"
      },
      "source": [
        "df_csv.head()"
      ],
      "id": "5f10b7c3",
      "execution_count": 94,
      "outputs": [
        {
          "output_type": "execute_result",
          "data": {
            "text/html": [
              "<div>\n",
              "<style scoped>\n",
              "    .dataframe tbody tr th:only-of-type {\n",
              "        vertical-align: middle;\n",
              "    }\n",
              "\n",
              "    .dataframe tbody tr th {\n",
              "        vertical-align: top;\n",
              "    }\n",
              "\n",
              "    .dataframe thead th {\n",
              "        text-align: right;\n",
              "    }\n",
              "</style>\n",
              "<table border=\"1\" class=\"dataframe\">\n",
              "  <thead>\n",
              "    <tr style=\"text-align: right;\">\n",
              "      <th></th>\n",
              "      <th>SN</th>\n",
              "      <th>date</th>\n",
              "      <th>axis</th>\n",
              "      <th>scale</th>\n",
              "      <th>section</th>\n",
              "      <th>TCMD-A-1</th>\n",
              "      <th>TCMD-A-2</th>\n",
              "    </tr>\n",
              "  </thead>\n",
              "  <tbody>\n",
              "    <tr>\n",
              "      <th>0</th>\n",
              "      <td>465</td>\n",
              "      <td>2017/11/25</td>\n",
              "      <td>X</td>\n",
              "      <td>1</td>\n",
              "      <td>2</td>\n",
              "      <td>5.401357</td>\n",
              "      <td>-5.077860</td>\n",
              "    </tr>\n",
              "    <tr>\n",
              "      <th>1</th>\n",
              "      <td>465</td>\n",
              "      <td>2017/11/25</td>\n",
              "      <td>Y</td>\n",
              "      <td>1</td>\n",
              "      <td>2</td>\n",
              "      <td>20.205510</td>\n",
              "      <td>13.520459</td>\n",
              "    </tr>\n",
              "    <tr>\n",
              "      <th>2</th>\n",
              "      <td>465</td>\n",
              "      <td>2017/11/25</td>\n",
              "      <td>Z</td>\n",
              "      <td>1</td>\n",
              "      <td>2</td>\n",
              "      <td>3.759887</td>\n",
              "      <td>-3.502716</td>\n",
              "    </tr>\n",
              "    <tr>\n",
              "      <th>3</th>\n",
              "      <td>475</td>\n",
              "      <td>2017/12/5</td>\n",
              "      <td>X</td>\n",
              "      <td>1</td>\n",
              "      <td>2</td>\n",
              "      <td>5.031119</td>\n",
              "      <td>-4.736860</td>\n",
              "    </tr>\n",
              "    <tr>\n",
              "      <th>4</th>\n",
              "      <td>475</td>\n",
              "      <td>2017/12/5</td>\n",
              "      <td>Y</td>\n",
              "      <td>1</td>\n",
              "      <td>2</td>\n",
              "      <td>15.270975</td>\n",
              "      <td>8.562764</td>\n",
              "    </tr>\n",
              "  </tbody>\n",
              "</table>\n",
              "</div>"
            ],
            "text/plain": [
              "    SN        date axis  scale  section   TCMD-A-1   TCMD-A-2\n",
              "0  465  2017/11/25    X      1        2   5.401357  -5.077860\n",
              "1  465  2017/11/25    Y      1        2  20.205510  13.520459\n",
              "2  465  2017/11/25    Z      1        2   3.759887  -3.502716\n",
              "3  475   2017/12/5    X      1        2   5.031119  -4.736860\n",
              "4  475   2017/12/5    Y      1        2  15.270975   8.562764"
            ]
          },
          "metadata": {},
          "execution_count": 94
        }
      ]
    },
    {
      "cell_type": "markdown",
      "metadata": {
        "id": "51c12844"
      },
      "source": [
        "ヒストグラムを作成する"
      ],
      "id": "51c12844"
    },
    {
      "cell_type": "code",
      "metadata": {
        "colab": {
          "base_uri": "https://localhost:8080/",
          "height": 206
        },
        "id": "boEZ1aNOEOmq",
        "outputId": "051b2b17-3acf-4bc5-b309-925a865a2755"
      },
      "source": [
        "df = pd.DataFrame({\"x1\": df_csv.iloc[0::3, 5],\n",
        "                   \"x2\": df_csv.iloc[0::3, 6],\n",
        "                   \"y1\": df_csv.iloc[1::3, 5],\n",
        "                   \"y2\": df_csv.iloc[1::3, 6],\n",
        "                   \"z1\": df_csv.iloc[2::3, 5],\n",
        "                   \"z2\": df_csv.iloc[2::3, 6]})\n",
        "df.head()"
      ],
      "id": "boEZ1aNOEOmq",
      "execution_count": 101,
      "outputs": [
        {
          "output_type": "execute_result",
          "data": {
            "text/html": [
              "<div>\n",
              "<style scoped>\n",
              "    .dataframe tbody tr th:only-of-type {\n",
              "        vertical-align: middle;\n",
              "    }\n",
              "\n",
              "    .dataframe tbody tr th {\n",
              "        vertical-align: top;\n",
              "    }\n",
              "\n",
              "    .dataframe thead th {\n",
              "        text-align: right;\n",
              "    }\n",
              "</style>\n",
              "<table border=\"1\" class=\"dataframe\">\n",
              "  <thead>\n",
              "    <tr style=\"text-align: right;\">\n",
              "      <th></th>\n",
              "      <th>x1</th>\n",
              "      <th>x2</th>\n",
              "      <th>y1</th>\n",
              "      <th>y2</th>\n",
              "      <th>z1</th>\n",
              "      <th>z2</th>\n",
              "    </tr>\n",
              "  </thead>\n",
              "  <tbody>\n",
              "    <tr>\n",
              "      <th>0</th>\n",
              "      <td>5.401357</td>\n",
              "      <td>-5.07786</td>\n",
              "      <td>NaN</td>\n",
              "      <td>NaN</td>\n",
              "      <td>NaN</td>\n",
              "      <td>NaN</td>\n",
              "    </tr>\n",
              "    <tr>\n",
              "      <th>1</th>\n",
              "      <td>NaN</td>\n",
              "      <td>NaN</td>\n",
              "      <td>20.205510</td>\n",
              "      <td>13.520459</td>\n",
              "      <td>NaN</td>\n",
              "      <td>NaN</td>\n",
              "    </tr>\n",
              "    <tr>\n",
              "      <th>2</th>\n",
              "      <td>NaN</td>\n",
              "      <td>NaN</td>\n",
              "      <td>NaN</td>\n",
              "      <td>NaN</td>\n",
              "      <td>3.759887</td>\n",
              "      <td>-3.502716</td>\n",
              "    </tr>\n",
              "    <tr>\n",
              "      <th>3</th>\n",
              "      <td>5.031119</td>\n",
              "      <td>-4.73686</td>\n",
              "      <td>NaN</td>\n",
              "      <td>NaN</td>\n",
              "      <td>NaN</td>\n",
              "      <td>NaN</td>\n",
              "    </tr>\n",
              "    <tr>\n",
              "      <th>4</th>\n",
              "      <td>NaN</td>\n",
              "      <td>NaN</td>\n",
              "      <td>15.270975</td>\n",
              "      <td>8.562764</td>\n",
              "      <td>NaN</td>\n",
              "      <td>NaN</td>\n",
              "    </tr>\n",
              "  </tbody>\n",
              "</table>\n",
              "</div>"
            ],
            "text/plain": [
              "         x1       x2         y1         y2        z1        z2\n",
              "0  5.401357 -5.07786        NaN        NaN       NaN       NaN\n",
              "1       NaN      NaN  20.205510  13.520459       NaN       NaN\n",
              "2       NaN      NaN        NaN        NaN  3.759887 -3.502716\n",
              "3  5.031119 -4.73686        NaN        NaN       NaN       NaN\n",
              "4       NaN      NaN  15.270975   8.562764       NaN       NaN"
            ]
          },
          "metadata": {},
          "execution_count": 101
        }
      ]
    },
    {
      "cell_type": "code",
      "metadata": {
        "colab": {
          "base_uri": "https://localhost:8080/",
          "height": 265
        },
        "id": "FLP4OX1u95j6",
        "outputId": "81afc273-57e0-4de4-b7c3-8b74b23edeff"
      },
      "source": [
        "plt.hist(df[\"x1\"])\n",
        "plt.show()"
      ],
      "id": "FLP4OX1u95j6",
      "execution_count": 99,
      "outputs": [
        {
          "output_type": "display_data",
          "data": {
            "image/png": "[encoded data removed]",
            "text/plain": [
              "<Figure size 432x288 with 1 Axes>"
            ]
          },
          "metadata": {
            "needs_background": "light"
          }
        }
      ]
    },
    {
      "cell_type": "markdown",
      "metadata": {
        "id": "889113f2"
      },
      "source": [
        "### Q3　トルク平均値データについて分析せよ / Analyze the data of average value of the torque."
      ],
      "id": "889113f2"
    }
  ]
}
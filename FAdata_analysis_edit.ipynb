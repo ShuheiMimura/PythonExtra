{
  "nbformat": 4,
  "nbformat_minor": 5,
  "metadata": {
    "kernelspec": {
      "display_name": "Python 3",
      "language": "python",
      "name": "python3"
    },
    "language_info": {
      "codemirror_mode": {
        "name": "ipython",
        "version": 3
      },
      "file_extension": ".py",
      "mimetype": "text/x-python",
      "name": "python",
      "nbconvert_exporter": "python",
      "pygments_lexer": "ipython3",
      "version": "3.7.9"
    },
    "colab": {
      "name": "FAdata_analysis_edit.ipynb",
      "provenance": []
    }
  },
  "cells": [
    {
      "cell_type": "markdown",
      "metadata": {
        "id": "623d6526"
      },
      "source": [
        "# Analyze the Feed axis data"
      ],
      "id": "623d6526"
    },
    {
      "cell_type": "markdown",
      "metadata": {
        "id": "999fba2f"
      },
      "source": [
        "### Q1 a81nxはどんな機械か？調査せよ / What kind of machine is a81nx? Investigate.\n",
        "  - 立形 or 横形 ?　主軸の種類は？　大きさは？　など\n",
        "  - vertical or Horizontal? Variation of Spindle? What is size? etc."
      ],
      "id": "999fba2f"
    },
    {
      "cell_type": "markdown",
      "metadata": {
        "id": "ec577e76"
      },
      "source": [
        "### Q2 X軸、Y軸、Z軸往復動作それぞれトルク平均値について、ヒストグラムを作成せよ<br>\n",
        "Make a histogram for each of the X-axis, Y-axis, Z-axis. <br>\n",
        "データ…C95_a81nx_WDAx02_TCMDA.csv"
      ],
      "id": "ec577e76"
    },
    {
      "cell_type": "markdown",
      "metadata": {
        "id": "659b3e00"
      },
      "source": [
        "まずモジュールを読み込む"
      ],
      "id": "659b3e00"
    },
    {
      "cell_type": "code",
      "metadata": {
        "id": "da8ea503"
      },
      "source": [
        "%matplotlib inline\n",
        "import pandas as pd\n",
        "import matplotlib.pyplot as plt"
      ],
      "id": "da8ea503",
      "execution_count": 3,
      "outputs": []
    },
    {
      "cell_type": "markdown",
      "metadata": {
        "id": "ad2fd89a"
      },
      "source": [
        "目的のCSVファイルをpandasのdataframe形式で読み込む"
      ],
      "id": "ad2fd89a"
    },
    {
      "cell_type": "code",
      "metadata": {
        "id": "59bf253c"
      },
      "source": [
        "df_csv = pd.read_csv('C95_a81nx_WDAx02_TCMDA.csv', index_col=0)"
      ],
      "id": "59bf253c",
      "execution_count": 4,
      "outputs": []
    },
    {
      "cell_type": "markdown",
      "metadata": {
        "id": "f5307087"
      },
      "source": [
        "pandasのdataframeの先頭5行を出力する"
      ],
      "id": "f5307087"
    },
    {
      "cell_type": "code",
      "metadata": {
        "id": "5f10b7c3",
        "outputId": "105b0831-e0f7-4a84-fbcc-43c5729d0cd1",
        "colab": {
          "base_uri": "https://localhost:8080/",
          "height": 206
        }
      },
      "source": [
        "df_csv.head()"
      ],
      "id": "5f10b7c3",
      "execution_count": 7,
      "outputs": [
        {
          "output_type": "execute_result",
          "data": {
            "text/html": [
              "<div>\n",
              "<style scoped>\n",
              "    .dataframe tbody tr th:only-of-type {\n",
              "        vertical-align: middle;\n",
              "    }\n",
              "\n",
              "    .dataframe tbody tr th {\n",
              "        vertical-align: top;\n",
              "    }\n",
              "\n",
              "    .dataframe thead th {\n",
              "        text-align: right;\n",
              "    }\n",
              "</style>\n",
              "<table border=\"1\" class=\"dataframe\">\n",
              "  <thead>\n",
              "    <tr style=\"text-align: right;\">\n",
              "      <th></th>\n",
              "      <th>SN</th>\n",
              "      <th>date</th>\n",
              "      <th>axis</th>\n",
              "      <th>scale</th>\n",
              "      <th>section</th>\n",
              "      <th>TCMD-A-1</th>\n",
              "      <th>TCMD-A-2</th>\n",
              "    </tr>\n",
              "  </thead>\n",
              "  <tbody>\n",
              "    <tr>\n",
              "      <th>0</th>\n",
              "      <td>465</td>\n",
              "      <td>2017/11/25</td>\n",
              "      <td>X</td>\n",
              "      <td>1</td>\n",
              "      <td>2</td>\n",
              "      <td>5.401357</td>\n",
              "      <td>-5.077860</td>\n",
              "    </tr>\n",
              "    <tr>\n",
              "      <th>1</th>\n",
              "      <td>465</td>\n",
              "      <td>2017/11/25</td>\n",
              "      <td>Y</td>\n",
              "      <td>1</td>\n",
              "      <td>2</td>\n",
              "      <td>20.205510</td>\n",
              "      <td>13.520459</td>\n",
              "    </tr>\n",
              "    <tr>\n",
              "      <th>2</th>\n",
              "      <td>465</td>\n",
              "      <td>2017/11/25</td>\n",
              "      <td>Z</td>\n",
              "      <td>1</td>\n",
              "      <td>2</td>\n",
              "      <td>3.759887</td>\n",
              "      <td>-3.502716</td>\n",
              "    </tr>\n",
              "    <tr>\n",
              "      <th>3</th>\n",
              "      <td>475</td>\n",
              "      <td>2017/12/5</td>\n",
              "      <td>X</td>\n",
              "      <td>1</td>\n",
              "      <td>2</td>\n",
              "      <td>5.031119</td>\n",
              "      <td>-4.736860</td>\n",
              "    </tr>\n",
              "    <tr>\n",
              "      <th>4</th>\n",
              "      <td>475</td>\n",
              "      <td>2017/12/5</td>\n",
              "      <td>Y</td>\n",
              "      <td>1</td>\n",
              "      <td>2</td>\n",
              "      <td>15.270975</td>\n",
              "      <td>8.562764</td>\n",
              "    </tr>\n",
              "  </tbody>\n",
              "</table>\n",
              "</div>"
            ],
            "text/plain": [
              "    SN        date axis  scale  section   TCMD-A-1   TCMD-A-2\n",
              "0  465  2017/11/25    X      1        2   5.401357  -5.077860\n",
              "1  465  2017/11/25    Y      1        2  20.205510  13.520459\n",
              "2  465  2017/11/25    Z      1        2   3.759887  -3.502716\n",
              "3  475   2017/12/5    X      1        2   5.031119  -4.736860\n",
              "4  475   2017/12/5    Y      1        2  15.270975   8.562764"
            ]
          },
          "metadata": {},
          "execution_count": 7
        }
      ]
    },
    {
      "cell_type": "markdown",
      "metadata": {
        "id": "51c12844"
      },
      "source": [
        "ヒストグラムを作成する"
      ],
      "id": "51c12844"
    },
    {
      "cell_type": "code",
      "metadata": {
        "id": "7a6a8bc1",
        "outputId": "0eb58df0-5c80-4343-c18a-7273d12ce931",
        "colab": {
          "base_uri": "https://localhost:8080/",
          "height": 206
        }
      },
      "source": [
        "dfx = df_csv[0::3]\n",
        "dfx.head()"
      ],
      "id": "7a6a8bc1",
      "execution_count": 13,
      "outputs": [
        {
          "output_type": "execute_result",
          "data": {
            "text/html": [
              "<div>\n",
              "<style scoped>\n",
              "    .dataframe tbody tr th:only-of-type {\n",
              "        vertical-align: middle;\n",
              "    }\n",
              "\n",
              "    .dataframe tbody tr th {\n",
              "        vertical-align: top;\n",
              "    }\n",
              "\n",
              "    .dataframe thead th {\n",
              "        text-align: right;\n",
              "    }\n",
              "</style>\n",
              "<table border=\"1\" class=\"dataframe\">\n",
              "  <thead>\n",
              "    <tr style=\"text-align: right;\">\n",
              "      <th></th>\n",
              "      <th>SN</th>\n",
              "      <th>date</th>\n",
              "      <th>axis</th>\n",
              "      <th>scale</th>\n",
              "      <th>section</th>\n",
              "      <th>TCMD-A-1</th>\n",
              "      <th>TCMD-A-2</th>\n",
              "    </tr>\n",
              "  </thead>\n",
              "  <tbody>\n",
              "    <tr>\n",
              "      <th>0</th>\n",
              "      <td>465</td>\n",
              "      <td>2017/11/25</td>\n",
              "      <td>X</td>\n",
              "      <td>1</td>\n",
              "      <td>2</td>\n",
              "      <td>5.401357</td>\n",
              "      <td>-5.077860</td>\n",
              "    </tr>\n",
              "    <tr>\n",
              "      <th>3</th>\n",
              "      <td>475</td>\n",
              "      <td>2017/12/5</td>\n",
              "      <td>X</td>\n",
              "      <td>1</td>\n",
              "      <td>2</td>\n",
              "      <td>5.031119</td>\n",
              "      <td>-4.736860</td>\n",
              "    </tr>\n",
              "    <tr>\n",
              "      <th>6</th>\n",
              "      <td>476</td>\n",
              "      <td>2017/11/17</td>\n",
              "      <td>X</td>\n",
              "      <td>1</td>\n",
              "      <td>2</td>\n",
              "      <td>4.639348</td>\n",
              "      <td>-4.430776</td>\n",
              "    </tr>\n",
              "    <tr>\n",
              "      <th>9</th>\n",
              "      <td>477</td>\n",
              "      <td>2017/11/17</td>\n",
              "      <td>X</td>\n",
              "      <td>1</td>\n",
              "      <td>2</td>\n",
              "      <td>5.499441</td>\n",
              "      <td>-5.442840</td>\n",
              "    </tr>\n",
              "    <tr>\n",
              "      <th>12</th>\n",
              "      <td>492</td>\n",
              "      <td>2017/11/1</td>\n",
              "      <td>X</td>\n",
              "      <td>1</td>\n",
              "      <td>2</td>\n",
              "      <td>4.894832</td>\n",
              "      <td>-4.538047</td>\n",
              "    </tr>\n",
              "  </tbody>\n",
              "</table>\n",
              "</div>"
            ],
            "text/plain": [
              "     SN        date axis  scale  section  TCMD-A-1  TCMD-A-2\n",
              "0   465  2017/11/25    X      1        2  5.401357 -5.077860\n",
              "3   475   2017/12/5    X      1        2  5.031119 -4.736860\n",
              "6   476  2017/11/17    X      1        2  4.639348 -4.430776\n",
              "9   477  2017/11/17    X      1        2  5.499441 -5.442840\n",
              "12  492   2017/11/1    X      1        2  4.894832 -4.538047"
            ]
          },
          "metadata": {},
          "execution_count": 13
        }
      ]
    },
    {
      "cell_type": "code",
      "metadata": {
        "id": "YQ13KdjH9h4Q",
        "outputId": "78f243d6-ce70-4142-8c2d-3ae949fd5abb",
        "colab": {
          "base_uri": "https://localhost:8080/",
          "height": 206
        }
      },
      "source": [
        "dfy = df_csv[1::3]\n",
        "dfy.head()"
      ],
      "id": "YQ13KdjH9h4Q",
      "execution_count": 11,
      "outputs": [
        {
          "output_type": "execute_result",
          "data": {
            "text/html": [
              "<div>\n",
              "<style scoped>\n",
              "    .dataframe tbody tr th:only-of-type {\n",
              "        vertical-align: middle;\n",
              "    }\n",
              "\n",
              "    .dataframe tbody tr th {\n",
              "        vertical-align: top;\n",
              "    }\n",
              "\n",
              "    .dataframe thead th {\n",
              "        text-align: right;\n",
              "    }\n",
              "</style>\n",
              "<table border=\"1\" class=\"dataframe\">\n",
              "  <thead>\n",
              "    <tr style=\"text-align: right;\">\n",
              "      <th></th>\n",
              "      <th>SN</th>\n",
              "      <th>date</th>\n",
              "      <th>axis</th>\n",
              "      <th>scale</th>\n",
              "      <th>section</th>\n",
              "      <th>TCMD-A-1</th>\n",
              "      <th>TCMD-A-2</th>\n",
              "    </tr>\n",
              "  </thead>\n",
              "  <tbody>\n",
              "    <tr>\n",
              "      <th>1</th>\n",
              "      <td>465</td>\n",
              "      <td>2017/11/25</td>\n",
              "      <td>Y</td>\n",
              "      <td>1</td>\n",
              "      <td>2</td>\n",
              "      <td>20.205510</td>\n",
              "      <td>13.520459</td>\n",
              "    </tr>\n",
              "    <tr>\n",
              "      <th>4</th>\n",
              "      <td>475</td>\n",
              "      <td>2017/12/5</td>\n",
              "      <td>Y</td>\n",
              "      <td>1</td>\n",
              "      <td>2</td>\n",
              "      <td>15.270975</td>\n",
              "      <td>8.562764</td>\n",
              "    </tr>\n",
              "    <tr>\n",
              "      <th>7</th>\n",
              "      <td>476</td>\n",
              "      <td>2017/11/17</td>\n",
              "      <td>Y</td>\n",
              "      <td>1</td>\n",
              "      <td>2</td>\n",
              "      <td>19.776772</td>\n",
              "      <td>13.055692</td>\n",
              "    </tr>\n",
              "    <tr>\n",
              "      <th>10</th>\n",
              "      <td>477</td>\n",
              "      <td>2017/11/17</td>\n",
              "      <td>Y</td>\n",
              "      <td>1</td>\n",
              "      <td>2</td>\n",
              "      <td>20.359478</td>\n",
              "      <td>12.865057</td>\n",
              "    </tr>\n",
              "    <tr>\n",
              "      <th>13</th>\n",
              "      <td>492</td>\n",
              "      <td>2017/11/1</td>\n",
              "      <td>Y</td>\n",
              "      <td>1</td>\n",
              "      <td>2</td>\n",
              "      <td>20.000813</td>\n",
              "      <td>13.408944</td>\n",
              "    </tr>\n",
              "  </tbody>\n",
              "</table>\n",
              "</div>"
            ],
            "text/plain": [
              "     SN        date axis  scale  section   TCMD-A-1   TCMD-A-2\n",
              "1   465  2017/11/25    Y      1        2  20.205510  13.520459\n",
              "4   475   2017/12/5    Y      1        2  15.270975   8.562764\n",
              "7   476  2017/11/17    Y      1        2  19.776772  13.055692\n",
              "10  477  2017/11/17    Y      1        2  20.359478  12.865057\n",
              "13  492   2017/11/1    Y      1        2  20.000813  13.408944"
            ]
          },
          "metadata": {},
          "execution_count": 11
        }
      ]
    },
    {
      "cell_type": "code",
      "metadata": {
        "id": "ipyYkYrQ9mVh",
        "outputId": "172d5795-ca92-48a5-94a9-5d9141882490",
        "colab": {
          "base_uri": "https://localhost:8080/",
          "height": 206
        }
      },
      "source": [
        "dfz = df_csv[2::3]\n",
        "dfz.head()"
      ],
      "id": "ipyYkYrQ9mVh",
      "execution_count": 12,
      "outputs": [
        {
          "output_type": "execute_result",
          "data": {
            "text/html": [
              "<div>\n",
              "<style scoped>\n",
              "    .dataframe tbody tr th:only-of-type {\n",
              "        vertical-align: middle;\n",
              "    }\n",
              "\n",
              "    .dataframe tbody tr th {\n",
              "        vertical-align: top;\n",
              "    }\n",
              "\n",
              "    .dataframe thead th {\n",
              "        text-align: right;\n",
              "    }\n",
              "</style>\n",
              "<table border=\"1\" class=\"dataframe\">\n",
              "  <thead>\n",
              "    <tr style=\"text-align: right;\">\n",
              "      <th></th>\n",
              "      <th>SN</th>\n",
              "      <th>date</th>\n",
              "      <th>axis</th>\n",
              "      <th>scale</th>\n",
              "      <th>section</th>\n",
              "      <th>TCMD-A-1</th>\n",
              "      <th>TCMD-A-2</th>\n",
              "    </tr>\n",
              "  </thead>\n",
              "  <tbody>\n",
              "    <tr>\n",
              "      <th>2</th>\n",
              "      <td>465</td>\n",
              "      <td>2017/11/25</td>\n",
              "      <td>Z</td>\n",
              "      <td>1</td>\n",
              "      <td>2</td>\n",
              "      <td>3.759887</td>\n",
              "      <td>-3.502716</td>\n",
              "    </tr>\n",
              "    <tr>\n",
              "      <th>5</th>\n",
              "      <td>475</td>\n",
              "      <td>2017/12/5</td>\n",
              "      <td>Z</td>\n",
              "      <td>1</td>\n",
              "      <td>2</td>\n",
              "      <td>4.117086</td>\n",
              "      <td>-3.873165</td>\n",
              "    </tr>\n",
              "    <tr>\n",
              "      <th>8</th>\n",
              "      <td>476</td>\n",
              "      <td>2017/11/17</td>\n",
              "      <td>Z</td>\n",
              "      <td>1</td>\n",
              "      <td>2</td>\n",
              "      <td>3.657362</td>\n",
              "      <td>-3.535495</td>\n",
              "    </tr>\n",
              "    <tr>\n",
              "      <th>11</th>\n",
              "      <td>477</td>\n",
              "      <td>2017/11/17</td>\n",
              "      <td>Z</td>\n",
              "      <td>1</td>\n",
              "      <td>2</td>\n",
              "      <td>4.079577</td>\n",
              "      <td>-3.948568</td>\n",
              "    </tr>\n",
              "    <tr>\n",
              "      <th>14</th>\n",
              "      <td>492</td>\n",
              "      <td>2017/11/1</td>\n",
              "      <td>Z</td>\n",
              "      <td>1</td>\n",
              "      <td>2</td>\n",
              "      <td>3.287162</td>\n",
              "      <td>-3.389565</td>\n",
              "    </tr>\n",
              "  </tbody>\n",
              "</table>\n",
              "</div>"
            ],
            "text/plain": [
              "     SN        date axis  scale  section  TCMD-A-1  TCMD-A-2\n",
              "2   465  2017/11/25    Z      1        2  3.759887 -3.502716\n",
              "5   475   2017/12/5    Z      1        2  4.117086 -3.873165\n",
              "8   476  2017/11/17    Z      1        2  3.657362 -3.535495\n",
              "11  477  2017/11/17    Z      1        2  4.079577 -3.948568\n",
              "14  492   2017/11/1    Z      1        2  3.287162 -3.389565"
            ]
          },
          "metadata": {},
          "execution_count": 12
        }
      ]
    },
    {
      "cell_type": "markdown",
      "metadata": {
        "id": "889113f2"
      },
      "source": [
        "### Q3　トルク平均値データについて分析せよ / Analyze the data of average value of the torque."
      ],
      "id": "889113f2"
    }
  ]
}